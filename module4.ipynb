{
 "cells": [
  {
   "cell_type": "code",
   "execution_count": 36,
   "id": "5ded8312-3daf-47f8-9a94-26e92f76cadb",
   "metadata": {},
   "outputs": [],
   "source": [
    "def hours():\n",
    "    print('Open 9-5 daily')"
   ]
  },
  {
   "cell_type": "code",
   "execution_count": 41,
   "id": "06cd7421-d884-4d2e-b561-9a560a725ee1",
   "metadata": {},
   "outputs": [
    {
     "ename": "AttributeError",
     "evalue": "module 'Zoo' has no attribute 'hours'",
     "output_type": "error",
     "traceback": [
      "\u001b[1;31m---------------------------------------------------------------------------\u001b[0m",
      "\u001b[1;31mAttributeError\u001b[0m                            Traceback (most recent call last)",
      "Cell \u001b[1;32mIn[41], line 2\u001b[0m\n\u001b[0;32m      1\u001b[0m \u001b[38;5;28;01mimport\u001b[39;00m \u001b[38;5;21;01mZoo\u001b[39;00m\n\u001b[1;32m----> 2\u001b[0m Zoo\u001b[38;5;241m.\u001b[39mhours()\n",
      "\u001b[1;31mAttributeError\u001b[0m: module 'Zoo' has no attribute 'hours'"
     ]
    }
   ],
   "source": [
    "import Zoo\n",
    "Zoo.hours()"
   ]
  },
  {
   "cell_type": "code",
   "execution_count": 37,
   "id": "c02ff562-b2a1-4fda-9d68-959346a9b78e",
   "metadata": {},
   "outputs": [
    {
     "name": "stdout",
     "output_type": "stream",
     "text": [
      "['.anaconda', '.bash_history', '.conda', '.condarc', '.continuum', '.git', '.gitconfig', '.idea', '.ipynb_checkpoints', '.ipython', '.jupyter', '.matplotlib', '.virtual_documents', '.vscode', 'ana', 'anaconda3', 'AppData', 'Application Data', 'arrow_exo.py', 'assignment1.ipynb', 'assignment2.ipynb', 'assignment3', 'assignment3.ipynb', 'binareysearch_exo.py', 'Contacts', 'Cookies', 'djangogirls', 'Documents', 'Downloads', 'exo.py', 'Favorites', 'git', 'hello_world_test.py', 'Links', 'Local Settings', 'module4.ipynb', 'Module4.py', 'Mod_3_tutorial.ipynb', 'Music', 'My Documents', 'NetHood', 'NTUSER.DAT', 'ntuser.dat.LOG1', 'ntuser.dat.LOG2', 'NTUSER.DAT{3d2e5fb3-2428-11ef-af10-00eebcdb0f4e}.TM.blf', 'NTUSER.DAT{3d2e5fb3-2428-11ef-af10-00eebcdb0f4e}.TMContainer00000000000000000001.regtrans-ms', 'NTUSER.DAT{3d2e5fb3-2428-11ef-af10-00eebcdb0f4e}.TMContainer00000000000000000002.regtrans-ms', 'ntuser.ini', 'OneDrive', 'practice', 'PrintHood', 'PycharmProjects', 'Recent', 'Saved Games', 'Searches', 'SendTo', 'Start Menu', 'student_qualification.py', 'Templates', 'test_1.py', 'Untitled.ipynb', 'untitled.py', 'untitled1.py', 'Videos', 'Zoo.py', '__pycache__']\n"
     ]
    }
   ],
   "source": [
    "import os\n",
    "print(os.listdir())"
   ]
  },
  {
   "cell_type": "code",
   "execution_count": 42,
   "id": "66453e39-da85-41a7-b97e-91ab36d85553",
   "metadata": {},
   "outputs": [],
   "source": [
    "import Zoo as menagerie"
   ]
  },
  {
   "cell_type": "code",
   "execution_count": 43,
   "id": "9e051220-8847-4884-8b89-db62c548a8e2",
   "metadata": {},
   "outputs": [
    {
     "ename": "AttributeError",
     "evalue": "module 'Zoo' has no attribute 'hours'",
     "output_type": "error",
     "traceback": [
      "\u001b[1;31m---------------------------------------------------------------------------\u001b[0m",
      "\u001b[1;31mAttributeError\u001b[0m                            Traceback (most recent call last)",
      "Cell \u001b[1;32mIn[43], line 1\u001b[0m\n\u001b[1;32m----> 1\u001b[0m menagerie\u001b[38;5;241m.\u001b[39mhours()\n",
      "\u001b[1;31mAttributeError\u001b[0m: module 'Zoo' has no attribute 'hours'"
     ]
    }
   ],
   "source": [
    "menagerie.hours()"
   ]
  },
  {
   "cell_type": "code",
   "execution_count": null,
   "id": "9eed3cd6-a897-4b33-bb94-81ccb1d38fa4",
   "metadata": {},
   "outputs": [],
   "source": [
    "#Use the sqlite3 module to create a SQLite database called books.db and a table called books with these fields: title (text), author (text), and year (integer).\n",
    "\n",
    "conn = sqlite3.connect('books.db')\n",
    "curs = conn.cursor()\n",
    "curs.execute('''CREATE TABLE books\n",
    "    (book_Id VARCHAR(20) PRIMARY KEY,\n",
    "    title TEXT,\n",
    "     author TEXT,\n",
    "     year INTEGER)''')"
   ]
  },
  {
   "cell_type": "code",
   "execution_count": 50,
   "id": "10ea8106-5c6b-46ce-8411-711244bea1c7",
   "metadata": {},
   "outputs": [],
   "source": [
    "##Read books2.csv and insert its data into the book tabl\n",
    "import csv\n",
    "\n",
    "books2 = [\n",
    "    ['title', 'author', 'year'],\n",
    "    ['The Weirdstone of Brisingamen', 'Alan Garner', '1960'],\n",
    "    ['Perdido Street Station', 'China Miéville', '2000'],\n",
    "    ['Thud!', 'Terry Pratchett', '2005'],\n",
    "    ['The Spellman Files', 'Lisa Lutz', '2007'],\n",
    "    ['Small Gods', 'Terry Pratchett', '1992']\n",
    "]\n",
    "\n",
    "with open('books2.csv', 'wt', newline='') as fout:  # Added .csv extension and newline=''\n",
    "    csvout = csv.writer(fout)\n",
    "    csvout.writerows(books2)\n",
    "    \n"
   ]
  },
  {
   "cell_type": "code",
   "execution_count": 54,
   "id": "3e8f5f01-dea3-48b8-bd90-18d688bf50ca",
   "metadata": {},
   "outputs": [
    {
     "name": "stdout",
     "output_type": "stream",
     "text": [
      "Header: ['title', 'author', 'year']\n",
      "Books Data: [['The Weirdstone of Brisingamen', 'Alan Garner', '1960'], ['Perdido Street Station', 'China Miéville', '2000'], ['Thud!', 'Terry Pratchett', '2005'], ['The Spellman Files', 'Lisa Lutz', '2007'], ['Small Gods', 'Terry Pratchett', '1992']]\n"
     ]
    }
   ],
   "source": [
    "import csv\n",
    "\n",
    "with open('books2.csv', 'rt') as fin:  \n",
    "    cin = csv.reader(fin)\n",
    "    header = next(cin)\n",
    "    books2 = [row for row in cin]\n",
    "\n",
    "print(\"Header:\", header)\n",
    "print(\"Books Data:\", books2)"
   ]
  },
  {
   "cell_type": "code",
   "execution_count": 85,
   "id": "40fdd8a4-c734-4ce4-9b54-cc6f5e1221e2",
   "metadata": {},
   "outputs": [],
   "source": [
    "from sqlalchemy import create_engine, MetaData, Table\n",
    "import sqlalchemy as sa\n",
    "\n",
    "# Define the connection URL (replace with your actual database URL)\n",
    "DATABASE_URL = 'sqlite:///books.db'  # Example for SQLite, replace as needed for your setup\n",
    "\n",
    "# Create the engine\n",
    "engine = create_engine(DATABASE_URL)\n",
    "\n",
    "# Create a metadata object\n",
    "metadata = sa.MetaData()\n",
    "\n",
    "# Define your 'books' table (make sure it's correct or already exists)\n",
    "books = Table('books', metadata, autoload_with=engine)\n",
    "\n"
   ]
  },
  {
   "cell_type": "code",
   "execution_count": 86,
   "id": "acacb85b-55b2-4e3c-a1c7-56bba8c1151f",
   "metadata": {},
   "outputs": [],
   "source": [
    "# Execute the query\n",
    "stmt = sa.select(books.c.title).order_by(books.c.title.asc())"
   ]
  },
  {
   "cell_type": "code",
   "execution_count": 87,
   "id": "34142d1b-8ae8-4ffb-ac62-d8fd2986f326",
   "metadata": {},
   "outputs": [],
   "source": [
    "# Connect to the database and execute the query\n",
    "with engine.connect() as conn:\n",
    "    result = conn.execute(stmt)\n",
    "    # Fetch and print the results\n",
    "    for row in result.fetchall():\n",
    "        print(row['title'])"
   ]
  },
  {
   "cell_type": "code",
   "execution_count": null,
   "id": "3d07eb5c-d7ee-48fd-aede-ca986a94acfd",
   "metadata": {},
   "outputs": [],
   "source": []
  }
 ],
 "metadata": {
  "kernelspec": {
   "display_name": "Python 3 (ipykernel)",
   "language": "python",
   "name": "python3"
  },
  "language_info": {
   "codemirror_mode": {
    "name": "ipython",
    "version": 3
   },
   "file_extension": ".py",
   "mimetype": "text/x-python",
   "name": "python",
   "nbconvert_exporter": "python",
   "pygments_lexer": "ipython3",
   "version": "3.12.7"
  }
 },
 "nbformat": 4,
 "nbformat_minor": 5
}
